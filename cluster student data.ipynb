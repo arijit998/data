{
  "nbformat": 4,
  "nbformat_minor": 0,
  "metadata": {
    "colab": {
      "provenance": []
    },
    "kernelspec": {
      "name": "python3",
      "display_name": "Python 3"
    },
    "language_info": {
      "name": "python"
    },
    "accelerator": "GPU",
    "gpuClass": "standard"
  },
  "cells": [
    {
      "cell_type": "code",
      "execution_count": 1,
      "metadata": {
        "id": "7MHPwpVgJMe7"
      },
      "outputs": [],
      "source": [
        "import pandas as pd"
      ]
    },
    {
      "cell_type": "code",
      "source": [
        "import matplotlib.pyplot as plt\n"
      ],
      "metadata": {
        "id": "AohxPWJMJRsE"
      },
      "execution_count": 2,
      "outputs": []
    },
    {
      "cell_type": "code",
      "source": [
        "import seaborn as sn"
      ],
      "metadata": {
        "id": "9-Ug36A7JYGd"
      },
      "execution_count": 3,
      "outputs": []
    },
    {
      "cell_type": "code",
      "source": [
        "data=pd.read_csv(\"/content/student college data (1).csv\")"
      ],
      "metadata": {
        "id": "Q6LZePQKJbKP"
      },
      "execution_count": 237,
      "outputs": []
    },
    {
      "cell_type": "code",
      "source": [
        "data.isnull().sum()"
      ],
      "metadata": {
        "id": "YzBRMcApJjsk"
      },
      "execution_count": null,
      "outputs": []
    },
    {
      "cell_type": "code",
      "source": [
        "data.head()"
      ],
      "metadata": {
        "id": "X1TrqxzqJoDt"
      },
      "execution_count": null,
      "outputs": []
    },
    {
      "cell_type": "code",
      "source": [
        "gender=data[\"gender\"]"
      ],
      "metadata": {
        "id": "deWPc_cLJrsM"
      },
      "execution_count": 7,
      "outputs": []
    },
    {
      "cell_type": "code",
      "source": [
        "interest=data[\"interest\"]"
      ],
      "metadata": {
        "id": "hDv7REFDJ5UG"
      },
      "execution_count": 8,
      "outputs": []
    },
    {
      "cell_type": "code",
      "source": [
        "residence=data[\"residence\"]"
      ],
      "metadata": {
        "id": "ZnLddDFCJ9TN"
      },
      "execution_count": 9,
      "outputs": []
    },
    {
      "cell_type": "code",
      "source": [
        "average_grades=data[\"average_grades\"]"
      ],
      "metadata": {
        "id": "IssidlKNKCxd"
      },
      "execution_count": 10,
      "outputs": []
    },
    {
      "cell_type": "code",
      "source": [
        "house_area=data[\"house_area\"]"
      ],
      "metadata": {
        "id": "sShBxsQFKPQk"
      },
      "execution_count": 11,
      "outputs": []
    },
    {
      "cell_type": "code",
      "source": [
        "parent_salary\t=data[\"parent_salary\"]"
      ],
      "metadata": {
        "id": "EAPDPg5WKWEE"
      },
      "execution_count": 12,
      "outputs": []
    },
    {
      "cell_type": "code",
      "source": [
        "parent_age=data[\"parent_age\"]"
      ],
      "metadata": {
        "id": "dEsDQ4KlKc90"
      },
      "execution_count": 13,
      "outputs": []
    },
    {
      "cell_type": "code",
      "source": [
        "type_school=data[\"type_school\"]"
      ],
      "metadata": {
        "id": "H7VSIKkjKi1l"
      },
      "execution_count": 14,
      "outputs": []
    },
    {
      "cell_type": "code",
      "source": [],
      "metadata": {
        "id": "vFkmIV4QKtFt"
      },
      "execution_count": 58,
      "outputs": []
    },
    {
      "cell_type": "code",
      "source": [
        "data.plot(figsize=[15,15],subplots=True)"
      ],
      "metadata": {
        "id": "qSRi7X01K5CF"
      },
      "execution_count": null,
      "outputs": []
    },
    {
      "cell_type": "code",
      "source": [
        "sn.displot(data=data,x=\"parent_salary\",kde=True,bins=200,color=\"red\")"
      ],
      "metadata": {
        "id": "jKTbEgabOZJG"
      },
      "execution_count": null,
      "outputs": []
    },
    {
      "cell_type": "code",
      "source": [
        "sn.displot(data=data,x=\"house_area\",kde=True,bins=200,color=\"black\")"
      ],
      "metadata": {
        "id": "RI1dgLTCQOsR"
      },
      "execution_count": null,
      "outputs": []
    },
    {
      "cell_type": "code",
      "source": [
        "sn.displot(data=data,x=\"average_grades\",kde=True,bins=200)"
      ],
      "metadata": {
        "id": "tiFuxD5ASPHJ"
      },
      "execution_count": null,
      "outputs": []
    },
    {
      "cell_type": "code",
      "source": [
        "sn.displot(data=data,x=\"parent_age\",bins=200,color=\"green\",kde=True)"
      ],
      "metadata": {
        "id": "QjPPuMuCWh8T"
      },
      "execution_count": null,
      "outputs": []
    },
    {
      "cell_type": "code",
      "source": [
        "sn.barplot(data=data,x=\"parent_salary\",y=\"residence\",hue=\"interest\")\n"
      ],
      "metadata": {
        "id": "XPcjLHGGXFzs"
      },
      "execution_count": null,
      "outputs": []
    },
    {
      "cell_type": "code",
      "source": [
        "sn.barplot(data=data,x=\"parent_salary\",y=\"residence\",hue=\"type_school\")"
      ],
      "metadata": {
        "id": "vO2vHPXMXuo8"
      },
      "execution_count": null,
      "outputs": []
    },
    {
      "cell_type": "code",
      "source": [
        "sn.barplot(data=data,x=\"parent_salary\",y=\"residence\",hue=\"gender\")"
      ],
      "metadata": {
        "id": "klQ6Ria_bOFt"
      },
      "execution_count": null,
      "outputs": []
    },
    {
      "cell_type": "code",
      "source": [
        "sn.barplot(data=data,x=\"house_area\",y=\"residence\",hue=\"school_accreditation\")"
      ],
      "metadata": {
        "id": "u6pRRxNsbv2l"
      },
      "execution_count": null,
      "outputs": []
    },
    {
      "cell_type": "code",
      "source": [
        "sn.barplot(data=data,x=\"average_grades\",y=\"gender\",hue=\"interest\")"
      ],
      "metadata": {
        "id": "3TbkmYNaetFP"
      },
      "execution_count": null,
      "outputs": []
    },
    {
      "cell_type": "code",
      "source": [
        "sn.relplot(data=data,y=\"interest\",x=\"parent_age\",style=\"gender\",col=\"residence\")"
      ],
      "metadata": {
        "id": "4QGceOoNhFDh"
      },
      "execution_count": null,
      "outputs": []
    },
    {
      "cell_type": "code",
      "source": [
        "sn.scatterplot(data=data,y=\"interest\",x=\"parent_age\",style=\"gender\",hue=\"residence\")"
      ],
      "metadata": {
        "id": "nkhITw0QmxIw"
      },
      "execution_count": null,
      "outputs": []
    },
    {
      "cell_type": "code",
      "source": [
        "data.describe()"
      ],
      "metadata": {
        "id": "TzLdxKnWoImk"
      },
      "execution_count": null,
      "outputs": []
    },
    {
      "cell_type": "code",
      "source": [
        "sn.boxplot(data=data,x=\"parent_salary\",y=\"interest\")"
      ],
      "metadata": {
        "id": "YHGuqqjRopup"
      },
      "execution_count": null,
      "outputs": []
    },
    {
      "cell_type": "code",
      "source": [
        "for c in data.columns:\n",
        "  print(c)"
      ],
      "metadata": {
        "id": "fxlvTNwRpb_F"
      },
      "execution_count": null,
      "outputs": []
    },
    {
      "cell_type": "code",
      "source": [
        "sn.pairplot(data,x_vars=[\"interest\"],y_vars=[\"parent_salary\",\"average_grades\",\"house_area\",\"parent_age\"],size=6)\n"
      ],
      "metadata": {
        "id": "qMLmMB4eqtrl"
      },
      "execution_count": null,
      "outputs": []
    },
    {
      "cell_type": "code",
      "source": [
        "data.head()"
      ],
      "metadata": {
        "colab": {
          "base_uri": "https://localhost:8080/",
          "height": 270
        },
        "id": "BxcDy4TNrceG",
        "outputId": "7d350164-cdee-4323-f1d5-7ca95c003568"
      },
      "execution_count": 262,
      "outputs": [
        {
          "output_type": "execute_result",
          "data": {
            "text/plain": [
              "   type_school  school_accreditation  gender  interest  residence  parent_age  \\\n",
              "0            1                     1       1         1          1          56   \n",
              "1            1                     1       1         1          1          57   \n",
              "2            1                     0       0         0          1          50   \n",
              "3            0                     0       1         0          0          49   \n",
              "4            1                     1       0         0          1          57   \n",
              "\n",
              "   parent_salary  house_area  average_grades  parent_was_in_college  \n",
              "0        6950000        83.0           84.09                      0  \n",
              "1        4410000        76.8           86.91                      0  \n",
              "2        6500000        80.6           87.43                      0  \n",
              "3        6600000        78.2           82.12                      1  \n",
              "4        5250000        75.1           86.79                      0  "
            ],
            "text/html": [
              "\n",
              "  <div id=\"df-de95f95e-4208-461f-bd0a-ed35cd32f619\">\n",
              "    <div class=\"colab-df-container\">\n",
              "      <div>\n",
              "<style scoped>\n",
              "    .dataframe tbody tr th:only-of-type {\n",
              "        vertical-align: middle;\n",
              "    }\n",
              "\n",
              "    .dataframe tbody tr th {\n",
              "        vertical-align: top;\n",
              "    }\n",
              "\n",
              "    .dataframe thead th {\n",
              "        text-align: right;\n",
              "    }\n",
              "</style>\n",
              "<table border=\"1\" class=\"dataframe\">\n",
              "  <thead>\n",
              "    <tr style=\"text-align: right;\">\n",
              "      <th></th>\n",
              "      <th>type_school</th>\n",
              "      <th>school_accreditation</th>\n",
              "      <th>gender</th>\n",
              "      <th>interest</th>\n",
              "      <th>residence</th>\n",
              "      <th>parent_age</th>\n",
              "      <th>parent_salary</th>\n",
              "      <th>house_area</th>\n",
              "      <th>average_grades</th>\n",
              "      <th>parent_was_in_college</th>\n",
              "    </tr>\n",
              "  </thead>\n",
              "  <tbody>\n",
              "    <tr>\n",
              "      <th>0</th>\n",
              "      <td>1</td>\n",
              "      <td>1</td>\n",
              "      <td>1</td>\n",
              "      <td>1</td>\n",
              "      <td>1</td>\n",
              "      <td>56</td>\n",
              "      <td>6950000</td>\n",
              "      <td>83.0</td>\n",
              "      <td>84.09</td>\n",
              "      <td>0</td>\n",
              "    </tr>\n",
              "    <tr>\n",
              "      <th>1</th>\n",
              "      <td>1</td>\n",
              "      <td>1</td>\n",
              "      <td>1</td>\n",
              "      <td>1</td>\n",
              "      <td>1</td>\n",
              "      <td>57</td>\n",
              "      <td>4410000</td>\n",
              "      <td>76.8</td>\n",
              "      <td>86.91</td>\n",
              "      <td>0</td>\n",
              "    </tr>\n",
              "    <tr>\n",
              "      <th>2</th>\n",
              "      <td>1</td>\n",
              "      <td>0</td>\n",
              "      <td>0</td>\n",
              "      <td>0</td>\n",
              "      <td>1</td>\n",
              "      <td>50</td>\n",
              "      <td>6500000</td>\n",
              "      <td>80.6</td>\n",
              "      <td>87.43</td>\n",
              "      <td>0</td>\n",
              "    </tr>\n",
              "    <tr>\n",
              "      <th>3</th>\n",
              "      <td>0</td>\n",
              "      <td>0</td>\n",
              "      <td>1</td>\n",
              "      <td>0</td>\n",
              "      <td>0</td>\n",
              "      <td>49</td>\n",
              "      <td>6600000</td>\n",
              "      <td>78.2</td>\n",
              "      <td>82.12</td>\n",
              "      <td>1</td>\n",
              "    </tr>\n",
              "    <tr>\n",
              "      <th>4</th>\n",
              "      <td>1</td>\n",
              "      <td>1</td>\n",
              "      <td>0</td>\n",
              "      <td>0</td>\n",
              "      <td>1</td>\n",
              "      <td>57</td>\n",
              "      <td>5250000</td>\n",
              "      <td>75.1</td>\n",
              "      <td>86.79</td>\n",
              "      <td>0</td>\n",
              "    </tr>\n",
              "  </tbody>\n",
              "</table>\n",
              "</div>\n",
              "      <button class=\"colab-df-convert\" onclick=\"convertToInteractive('df-de95f95e-4208-461f-bd0a-ed35cd32f619')\"\n",
              "              title=\"Convert this dataframe to an interactive table.\"\n",
              "              style=\"display:none;\">\n",
              "        \n",
              "  <svg xmlns=\"http://www.w3.org/2000/svg\" height=\"24px\"viewBox=\"0 0 24 24\"\n",
              "       width=\"24px\">\n",
              "    <path d=\"M0 0h24v24H0V0z\" fill=\"none\"/>\n",
              "    <path d=\"M18.56 5.44l.94 2.06.94-2.06 2.06-.94-2.06-.94-.94-2.06-.94 2.06-2.06.94zm-11 1L8.5 8.5l.94-2.06 2.06-.94-2.06-.94L8.5 2.5l-.94 2.06-2.06.94zm10 10l.94 2.06.94-2.06 2.06-.94-2.06-.94-.94-2.06-.94 2.06-2.06.94z\"/><path d=\"M17.41 7.96l-1.37-1.37c-.4-.4-.92-.59-1.43-.59-.52 0-1.04.2-1.43.59L10.3 9.45l-7.72 7.72c-.78.78-.78 2.05 0 2.83L4 21.41c.39.39.9.59 1.41.59.51 0 1.02-.2 1.41-.59l7.78-7.78 2.81-2.81c.8-.78.8-2.07 0-2.86zM5.41 20L4 18.59l7.72-7.72 1.47 1.35L5.41 20z\"/>\n",
              "  </svg>\n",
              "      </button>\n",
              "      \n",
              "  <style>\n",
              "    .colab-df-container {\n",
              "      display:flex;\n",
              "      flex-wrap:wrap;\n",
              "      gap: 12px;\n",
              "    }\n",
              "\n",
              "    .colab-df-convert {\n",
              "      background-color: #E8F0FE;\n",
              "      border: none;\n",
              "      border-radius: 50%;\n",
              "      cursor: pointer;\n",
              "      display: none;\n",
              "      fill: #1967D2;\n",
              "      height: 32px;\n",
              "      padding: 0 0 0 0;\n",
              "      width: 32px;\n",
              "    }\n",
              "\n",
              "    .colab-df-convert:hover {\n",
              "      background-color: #E2EBFA;\n",
              "      box-shadow: 0px 1px 2px rgba(60, 64, 67, 0.3), 0px 1px 3px 1px rgba(60, 64, 67, 0.15);\n",
              "      fill: #174EA6;\n",
              "    }\n",
              "\n",
              "    [theme=dark] .colab-df-convert {\n",
              "      background-color: #3B4455;\n",
              "      fill: #D2E3FC;\n",
              "    }\n",
              "\n",
              "    [theme=dark] .colab-df-convert:hover {\n",
              "      background-color: #434B5C;\n",
              "      box-shadow: 0px 1px 3px 1px rgba(0, 0, 0, 0.15);\n",
              "      filter: drop-shadow(0px 1px 2px rgba(0, 0, 0, 0.3));\n",
              "      fill: #FFFFFF;\n",
              "    }\n",
              "  </style>\n",
              "\n",
              "      <script>\n",
              "        const buttonEl =\n",
              "          document.querySelector('#df-de95f95e-4208-461f-bd0a-ed35cd32f619 button.colab-df-convert');\n",
              "        buttonEl.style.display =\n",
              "          google.colab.kernel.accessAllowed ? 'block' : 'none';\n",
              "\n",
              "        async function convertToInteractive(key) {\n",
              "          const element = document.querySelector('#df-de95f95e-4208-461f-bd0a-ed35cd32f619');\n",
              "          const dataTable =\n",
              "            await google.colab.kernel.invokeFunction('convertToInteractive',\n",
              "                                                     [key], {});\n",
              "          if (!dataTable) return;\n",
              "\n",
              "          const docLinkHtml = 'Like what you see? Visit the ' +\n",
              "            '<a target=\"_blank\" href=https://colab.research.google.com/notebooks/data_table.ipynb>data table notebook</a>'\n",
              "            + ' to learn more about interactive tables.';\n",
              "          element.innerHTML = '';\n",
              "          dataTable['output_type'] = 'display_data';\n",
              "          await google.colab.output.renderOutput(dataTable, element);\n",
              "          const docLink = document.createElement('div');\n",
              "          docLink.innerHTML = docLinkHtml;\n",
              "          element.appendChild(docLink);\n",
              "        }\n",
              "      </script>\n",
              "    </div>\n",
              "  </div>\n",
              "  "
            ]
          },
          "metadata": {},
          "execution_count": 262
        }
      ]
    },
    {
      "cell_type": "markdown",
      "source": [],
      "metadata": {
        "id": "NJ72noGf3xOb"
      }
    },
    {
      "cell_type": "code",
      "source": [
        "pd.unique(data[\"school_accreditation\"])"
      ],
      "metadata": {
        "colab": {
          "base_uri": "https://localhost:8080/"
        },
        "id": "LLxlrJ_-uGXX",
        "outputId": "836d01fb-5c95-44b8-f6a9-ad853950997e"
      },
      "execution_count": 249,
      "outputs": [
        {
          "output_type": "execute_result",
          "data": {
            "text/plain": [
              "array(['A', 'B'], dtype=object)"
            ]
          },
          "metadata": {},
          "execution_count": 249
        }
      ]
    },
    {
      "cell_type": "code",
      "source": [
        "data[\"school_accreditation\"]=data[\"school_accreditation\"].apply({\"A\":1,\"B\":0}.get)"
      ],
      "metadata": {
        "id": "m5C_nkj7uolc"
      },
      "execution_count": 250,
      "outputs": []
    },
    {
      "cell_type": "code",
      "source": [
        "pd.unique(data[\"type_school\"])"
      ],
      "metadata": {
        "colab": {
          "base_uri": "https://localhost:8080/"
        },
        "id": "gYz0im_Fu5cw",
        "outputId": "2426a0f5-7761-429b-fca0-b34cc1a876a4"
      },
      "execution_count": 251,
      "outputs": [
        {
          "output_type": "execute_result",
          "data": {
            "text/plain": [
              "array(['Academic', 'Vocational'], dtype=object)"
            ]
          },
          "metadata": {},
          "execution_count": 251
        }
      ]
    },
    {
      "cell_type": "code",
      "source": [
        "data[\"type_school\"]=data[\"type_school\"].apply({\"Academic\":1,\"Vocational\":0}.get)"
      ],
      "metadata": {
        "id": "AfS1Ygo4v9Ww"
      },
      "execution_count": 252,
      "outputs": []
    },
    {
      "cell_type": "code",
      "source": [
        "pd.unique(data[\"gender\"])"
      ],
      "metadata": {
        "colab": {
          "base_uri": "https://localhost:8080/"
        },
        "id": "-xKwgV-MwNsZ",
        "outputId": "c75a89c1-c595-4623-eb01-a1cf89736887"
      },
      "execution_count": 253,
      "outputs": [
        {
          "output_type": "execute_result",
          "data": {
            "text/plain": [
              "array(['Male', 'Female'], dtype=object)"
            ]
          },
          "metadata": {},
          "execution_count": 253
        }
      ]
    },
    {
      "cell_type": "code",
      "source": [
        "data[\"gender\"]=data[\"gender\"].apply({\"Male\":1,\"Female\":0}.get)"
      ],
      "metadata": {
        "id": "UdhAiP3cwXjw"
      },
      "execution_count": 254,
      "outputs": []
    },
    {
      "cell_type": "code",
      "source": [
        "pd.unique(data[\"interest\"])"
      ],
      "metadata": {
        "colab": {
          "base_uri": "https://localhost:8080/"
        },
        "id": "-oVmOqcxwkGp",
        "outputId": "6cb82257-0972-44ad-9ffd-8a2a91024cca"
      },
      "execution_count": 255,
      "outputs": [
        {
          "output_type": "execute_result",
          "data": {
            "text/plain": [
              "array(['Less Interested', 'Very Interested', 'Uncertain',\n",
              "       'Not Interested', 'Quiet Interested'], dtype=object)"
            ]
          },
          "metadata": {},
          "execution_count": 255
        }
      ]
    },
    {
      "cell_type": "code",
      "source": [
        "data[\"interest\"]=data[\"interest\"].apply({\"Less Interested\":1,\"Very Interested\":0,\"Uncertain\":2,\"Not Interested\":3,\"Quiet Interested\":4}.get)"
      ],
      "metadata": {
        "id": "UFJBavBIw0_6"
      },
      "execution_count": 256,
      "outputs": []
    },
    {
      "cell_type": "code",
      "source": [
        "pd.unique(data[\"residence\"])"
      ],
      "metadata": {
        "colab": {
          "base_uri": "https://localhost:8080/"
        },
        "id": "Xo9aXcl0xM6D",
        "outputId": "8c9aeac1-3049-41dd-9340-731ae376f503"
      },
      "execution_count": 257,
      "outputs": [
        {
          "output_type": "execute_result",
          "data": {
            "text/plain": [
              "array(['Urban', 'Rural'], dtype=object)"
            ]
          },
          "metadata": {},
          "execution_count": 257
        }
      ]
    },
    {
      "cell_type": "code",
      "source": [
        "data[\"residence\"]=data[\"residence\"].apply({\"Urban\":1,\"Rural\":0}.get)"
      ],
      "metadata": {
        "id": "tz2-NLVIxYGD"
      },
      "execution_count": 258,
      "outputs": []
    },
    {
      "cell_type": "code",
      "source": [
        "pd.unique(data[\"parent_was_in_college\"])"
      ],
      "metadata": {
        "colab": {
          "base_uri": "https://localhost:8080/"
        },
        "id": "evIjEm88zOFC",
        "outputId": "15ff75c0-d3d6-4b09-a717-259efaa3b3c5"
      },
      "execution_count": 259,
      "outputs": [
        {
          "output_type": "execute_result",
          "data": {
            "text/plain": [
              "array([0, 1])"
            ]
          },
          "metadata": {},
          "execution_count": 259
        }
      ]
    },
    {
      "cell_type": "code",
      "source": [
        "data[\"parent_was_in_college\"]=data[\"parent_was_in_college\"].apply({True:1,False:0}.get)"
      ],
      "metadata": {
        "id": "s9kU81tvzZDq"
      },
      "execution_count": 260,
      "outputs": []
    },
    {
      "cell_type": "code",
      "source": [
        "import scipy.cluster.hierarchy as sh"
      ],
      "metadata": {
        "id": "zNf3TBd_zlQa"
      },
      "execution_count": 261,
      "outputs": []
    },
    {
      "cell_type": "code",
      "source": [
        "d=sh.dendrogram(sh.linkage(data,method=\"ward\"))\n",
        "plt.title(\"dendro\")"
      ],
      "metadata": {
        "colab": {
          "base_uri": "https://localhost:8080/",
          "height": 299
        },
        "id": "7ekmgTXizvEz",
        "outputId": "946d332d-fd9f-41bd-a7f0-fe5a7ec66900"
      },
      "execution_count": 266,
      "outputs": [
        {
          "output_type": "execute_result",
          "data": {
            "text/plain": [
              "Text(0.5, 1.0, 'dendro')"
            ]
          },
          "metadata": {},
          "execution_count": 266
        },
        {
          "output_type": "display_data",
          "data": {
            "text/plain": [
              "<Figure size 432x288 with 1 Axes>"
            ],
            "image/png": "[encoded data removed]"
          },
          "metadata": {
            "needs_background": "light"
          }
        }
      ]
    },
    {
      "cell_type": "code",
      "source": [
        "from sklearn.cluster import AgglomerativeClustering"
      ],
      "metadata": {
        "id": "m5rnrIcS1kRc"
      },
      "execution_count": 268,
      "outputs": []
    },
    {
      "cell_type": "code",
      "source": [
        "xolo=AgglomerativeClustering(n_clusters=3,affinity=\"euclidean\",linkage=\"ward\")"
      ],
      "metadata": {
        "id": "mgMtkH4TB3Ph"
      },
      "execution_count": 269,
      "outputs": []
    },
    {
      "cell_type": "code",
      "source": [
        "xolo.fit(data)"
      ],
      "metadata": {
        "colab": {
          "base_uri": "https://localhost:8080/"
        },
        "id": "qSH4pHUPCZ06",
        "outputId": "b560c3d1-2e1d-4990-e7cf-d603c9730b67"
      },
      "execution_count": 270,
      "outputs": [
        {
          "output_type": "execute_result",
          "data": {
            "text/plain": [
              "AgglomerativeClustering(n_clusters=3)"
            ]
          },
          "metadata": {},
          "execution_count": 270
        }
      ]
    },
    {
      "cell_type": "code",
      "source": [
        "xolo.fit_predict(data)"
      ],
      "metadata": {
        "colab": {
          "base_uri": "https://localhost:8080/"
        },
        "id": "zHhIpt8WCedq",
        "outputId": "ed7385fa-b412-466a-e7ef-1fcf4c6fb3df"
      },
      "execution_count": 271,
      "outputs": [
        {
          "output_type": "execute_result",
          "data": {
            "text/plain": [
              "array([2, 1, 0, 0, 0, 1, 0, 0, 0, 1, 0, 0, 2, 2, 1, 2, 1, 0, 2, 1, 0, 1,\n",
              "       1, 1, 0, 0, 0, 1, 0, 0, 0, 0, 1, 0, 0, 0, 0, 0, 2, 1, 0, 1, 0, 0,\n",
              "       0, 1, 1, 1, 2, 0, 2, 0, 0, 1, 0, 0, 1, 0, 2, 1, 0, 0, 0, 0, 0, 0,\n",
              "       0, 1, 0, 0, 0, 0, 1, 1, 2, 1, 1, 0, 2, 0, 1, 0, 0, 0, 1, 0, 0, 2,\n",
              "       0, 0, 1, 1, 0, 1, 2, 2, 0, 0, 0, 0, 1, 1, 0, 0, 0, 1, 0, 0, 1, 0,\n",
              "       0, 1, 2, 1, 2, 2, 0, 1, 1, 1, 1, 2, 0, 0, 2, 0, 2, 1, 0, 1, 0, 1,\n",
              "       0, 0, 1, 1, 0, 1, 1, 1, 0, 0, 2, 0, 1, 0, 0, 0, 2, 0, 0, 2, 0, 0,\n",
              "       1, 0, 1, 1, 2, 1, 1, 0, 1, 1, 2, 0, 0, 1, 0, 1, 0, 2, 1, 0, 1, 1,\n",
              "       0, 0, 1, 0, 0, 2, 0, 0, 0, 0, 1, 0, 0, 0, 1, 0, 0, 0, 1, 0, 0, 1,\n",
              "       0, 1, 0, 0, 0, 0, 1, 0, 1, 0, 0, 0, 2, 0, 0, 0, 1, 0, 2, 0, 1, 2,\n",
              "       1, 0, 0, 2, 1, 1, 0, 0, 0, 0, 0, 0, 0, 1, 2, 1, 1, 2, 2, 1, 0, 0,\n",
              "       0, 0, 0, 0, 0, 0, 1, 0, 1, 1, 2, 0, 1, 1, 0, 0, 2, 0, 1, 1, 0, 0,\n",
              "       0, 1, 1, 0, 0, 0, 1, 0, 0, 0, 0, 1, 2, 0, 2, 1, 0, 1, 1, 1, 0, 0,\n",
              "       1, 1, 0, 0, 0, 1, 1, 0, 2, 1, 0, 1, 2, 0, 0, 0, 0, 2, 0, 0, 2, 0,\n",
              "       0, 1, 1, 1, 1, 1, 0, 1, 0, 0, 0, 0, 1, 1, 1, 0, 2, 1, 1, 1, 0, 0,\n",
              "       1, 0, 1, 0, 0, 2, 1, 0, 0, 0, 1, 1, 1, 0, 0, 1, 0, 0, 0, 2, 0, 0,\n",
              "       0, 0, 0, 1, 0, 0, 0, 1, 0, 1, 0, 0, 0, 1, 0, 1, 0, 0, 1, 1, 0, 0,\n",
              "       2, 0, 1, 1, 0, 1, 2, 1, 1, 0, 1, 0, 0, 1, 2, 1, 2, 0, 0, 1, 1, 0,\n",
              "       0, 0, 0, 1, 1, 1, 0, 1, 2, 0, 0, 0, 1, 0, 1, 0, 1, 1, 0, 1, 1, 0,\n",
              "       0, 1, 0, 0, 1, 1, 0, 1, 0, 0, 1, 0, 1, 2, 1, 1, 1, 1, 0, 0, 1, 0,\n",
              "       0, 0, 1, 1, 0, 0, 0, 0, 1, 2, 2, 0, 0, 1, 0, 2, 0, 0, 0, 2, 0, 1,\n",
              "       1, 0, 2, 0, 0, 1, 2, 1, 0, 2, 2, 0, 0, 1, 0, 2, 1, 1, 0, 2, 1, 0,\n",
              "       1, 1, 1, 1, 0, 0, 0, 0, 2, 0, 2, 0, 0, 1, 2, 0, 0, 0, 1, 0, 0, 1,\n",
              "       1, 2, 1, 2, 0, 1, 0, 0, 1, 1, 1, 0, 0, 0, 1, 0, 0, 2, 0, 1, 0, 1,\n",
              "       0, 1, 0, 1, 0, 2, 1, 0, 0, 2, 1, 0, 1, 0, 0, 1, 2, 1, 1, 0, 1, 1,\n",
              "       0, 1, 0, 0, 1, 2, 2, 1, 1, 1, 2, 0, 0, 2, 1, 2, 0, 1, 0, 0, 0, 0,\n",
              "       1, 0, 1, 0, 0, 2, 1, 1, 1, 0, 2, 2, 0, 1, 2, 0, 0, 0, 0, 0, 0, 1,\n",
              "       0, 0, 0, 0, 0, 0, 0, 2, 1, 0, 1, 1, 0, 2, 0, 1, 1, 0, 2, 0, 1, 1,\n",
              "       0, 0, 0, 0, 2, 0, 1, 0, 0, 1, 1, 1, 1, 0, 0, 0, 1, 0, 0, 0, 2, 0,\n",
              "       0, 1, 2, 1, 0, 1, 1, 1, 0, 1, 2, 0, 1, 0, 1, 0, 0, 2, 2, 0, 2, 0,\n",
              "       1, 1, 0, 0, 0, 0, 0, 2, 1, 0, 2, 0, 0, 2, 1, 1, 1, 0, 2, 2, 0, 0,\n",
              "       0, 0, 0, 0, 0, 2, 0, 1, 2, 2, 0, 0, 1, 0, 2, 0, 2, 1, 2, 0, 0, 0,\n",
              "       1, 0, 0, 0, 0, 1, 0, 1, 0, 0, 1, 1, 1, 1, 0, 1, 1, 1, 0, 0, 1, 0,\n",
              "       0, 1, 0, 0, 1, 1, 0, 0, 0, 0, 1, 0, 2, 0, 1, 0, 2, 0, 1, 0, 1, 1,\n",
              "       1, 1, 2, 0, 2, 1, 1, 0, 1, 2, 1, 1, 0, 2, 0, 0, 0, 0, 0, 1, 1, 1,\n",
              "       2, 1, 0, 1, 2, 2, 0, 2, 1, 0, 0, 1, 0, 0, 0, 0, 1, 2, 0, 1, 0, 1,\n",
              "       0, 0, 0, 2, 0, 1, 0, 0, 2, 0, 1, 1, 0, 0, 0, 0, 0, 2, 1, 1, 0, 1,\n",
              "       2, 2, 2, 0, 2, 0, 0, 0, 0, 1, 0, 0, 0, 1, 0, 1, 2, 0, 0, 1, 0, 2,\n",
              "       0, 0, 0, 2, 1, 0, 0, 0, 1, 1, 0, 0, 1, 0, 0, 0, 0, 0, 0, 0, 2, 0,\n",
              "       2, 0, 1, 0, 1, 0, 0, 0, 0, 1, 0, 0, 0, 1, 0, 0, 0, 2, 1, 1, 0, 0,\n",
              "       0, 1, 1, 1, 1, 0, 1, 0, 1, 0, 2, 0, 0, 1, 0, 0, 0, 2, 0, 0, 0, 2,\n",
              "       0, 1, 1, 0, 2, 2, 1, 0, 0, 1, 1, 1, 0, 2, 0, 0, 2, 0, 2, 2, 0, 1,\n",
              "       1, 0, 1, 1, 1, 0, 0, 1, 0, 0, 0, 0, 1, 0, 0, 0, 0, 0, 1, 1, 1, 0,\n",
              "       1, 1, 1, 1, 1, 1, 1, 0, 1, 1, 0, 0, 1, 0, 0, 1, 1, 0, 0, 0, 2, 1,\n",
              "       0, 0, 2, 1, 0, 1, 0, 0, 1, 0, 0, 0, 0, 0, 0, 2, 1, 0, 1, 1, 2, 0,\n",
              "       0, 2, 1, 0, 1, 2, 2, 0, 0, 1])"
            ]
          },
          "metadata": {},
          "execution_count": 271
        }
      ]
    },
    {
      "cell_type": "code",
      "source": [],
      "metadata": {
        "id": "55nPQqpnCioq"
      },
      "execution_count": null,
      "outputs": []
    }
  ]
}