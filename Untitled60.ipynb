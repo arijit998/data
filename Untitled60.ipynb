{
  "nbformat": 4,
  "nbformat_minor": 0,
  "metadata": {
    "colab": {
      "provenance": [],
      "authorship_tag": "ABX9TyPCwzVIjmeIBtm+Dr0DpPJ9",
      "include_colab_link": true
    },
    "kernelspec": {
      "name": "python3",
      "display_name": "Python 3"
    },
    "language_info": {
      "name": "python"
    }
  },
  "cells": [
    {
      "cell_type": "markdown",
      "metadata": {
        "id": "view-in-github",
        "colab_type": "text"
      },
      "source": [
        "<a href=\"https://colab.research.google.com/github/arijit998/data-sc-and-cloud/blob/main/Untitled60.ipynb\" target=\"_parent\"><img src=\"https://colab.research.google.com/assets/colab-badge.svg\" alt=\"Open In Colab\"/></a>"
      ]
    },
    {
      "cell_type": "code",
      "execution_count": 1,
      "metadata": {
        "id": "6qYk7VGRxO8X"
      },
      "outputs": [],
      "source": [
        "import os"
      ]
    },
    {
      "cell_type": "code",
      "source": [
        "from pathlib import Path"
      ],
      "metadata": {
        "id": "VXkgx-bzxQ1R"
      },
      "execution_count": 3,
      "outputs": []
    },
    {
      "cell_type": "code",
      "source": [
        "project=\"flight_price_prediction\""
      ],
      "metadata": {
        "id": "dYf2IH_pxVs5"
      },
      "execution_count": 4,
      "outputs": []
    },
    {
      "cell_type": "code",
      "source": [
        "l=[\".github/workflow/.gitkeep\",\n",
        "   f\"src/{project}/__init__.py\",\n",
        "   f\"src/{project}/components/__init__.py\",\n",
        "   f\"src/{project}/components/data_ingestion.py\",\n",
        "   f\"src/{project}/components/data_transformation.py\",\n",
        "   f\"src/{project}/components/model_trainer.py\",\n",
        "   f\"src/{project}/pipeline/training_pipeline.py\",\n",
        "   f\"src/{project}/pipeline/prediction_pipeline.py\",\n",
        "   f\"src/{project}/logger.py\",\n",
        "   f\"src/{project}/exception.py\",\n",
        "   f\"src/{project}/utils/__init__.py\",\n",
        "   \"notebooks/resarch.ipynb\",\n",
        "   \"notebooks/data/.gitkeep\",\n",
        "   \"requirements.txt\",\n",
        "   \"setup.py\",\n",
        "   \"init_setup.sh\"]"
      ],
      "metadata": {
        "id": "Iu0UghZYxhHw"
      },
      "execution_count": 11,
      "outputs": []
    },
    {
      "cell_type": "code",
      "source": [
        "for i in l:\n",
        "  file_path=Path(i)\n",
        "  folder,file=os.path.split(i)\n",
        "  if folder!=\"\":\n",
        "    os.makedirs(folder,exist_ok=True)\n",
        "  if (not os.path.exists(file_path) or os.path.getsize(file_path)==0):\n",
        "    with open(i,\"w\") as f:\n",
        "     pass\n",
        "  else:\n",
        "    print(\"alrady exsists\")"
      ],
      "metadata": {
        "id": "j0-hOQ1izBP6"
      },
      "execution_count": 12,
      "outputs": []
    },
    {
      "cell_type": "code",
      "source": [],
      "metadata": {
        "id": "ViPBxa8fz2pq"
      },
      "execution_count": 12,
      "outputs": []
    }
  ]
}